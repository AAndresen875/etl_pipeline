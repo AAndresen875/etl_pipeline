{
 "cells": [
  {
   "cell_type": "markdown",
   "metadata": {},
   "source": [
    "# Following Tutorial [link](https://www.neonscience.org/resources/learning-hub/tutorials/neon-api-intro-requests-py)\n",
    "\n",
    "We will be hitting the following endpoints:  \n",
    "* `sites/`, \n",
    "* `products/`, \n",
    "* `data/`; \n",
    "\n",
    "other endpoints can be seen through the [REST API Explorer](https://data.neonscience.org/data-api/explorer/)\n",
    "\n",
    "The target is a value or series of values that indicate the specific data product, site, location, or data files we are looking up."
   ]
  },
  {
   "cell_type": "code",
   "execution_count": null,
   "metadata": {},
   "outputs": [],
   "source": [
    "# imports\n",
    "import os\n",
    "import requests\n",
    "import json\n",
    "import itertools\n",
    "import rasterio as rio\n",
    "import matplotlib.pyplot as plt\n",
    "from rasterio.plot import show\n",
    "import rasterio\n",
    "import rasterio.features\n",
    "import rasterio.warp"
   ]
  },
  {
   "cell_type": "markdown",
   "metadata": {},
   "source": [
    "## Defining server url:"
   ]
  },
  {
   "cell_type": "code",
   "execution_count": null,
   "metadata": {},
   "outputs": [],
   "source": [
    "# Server URL\n",
    "# more info on server url and how it influences the base url: https://swagger.io/docs/specification/api-host-and-base-path/\n",
    "server_url = \"http://data.neonscience.org/api/v0/\""
   ]
  },
  {
   "cell_type": "markdown",
   "metadata": {},
   "source": [
    "# Querying by a site level:\n",
    "> NEON manages 81 different sites across the United States and Puerto Rico. These sites are separated into two main groups, terrestrial and aquatic, and the aquatic sites are further subdivided into lakes, rivers, and wadable streams. Each of these different site types have different instrumentation and observation configurations, so not every data product is available at every site. We can start by asking what kinds of data products are available for a given site. This is done by using the sites/ endpoint in the API; this endpoint is used for getting information about specific NEON field sites. In this example we will query which data products are available at the Lower Teakettle (TEAK) site."
   ]
  },
  {
   "cell_type": "code",
   "execution_count": null,
   "metadata": {},
   "outputs": [],
   "source": [
    "\n",
    "# Site Code for Lower Teakettle \n",
    "sitecode = \"TEAK\"\n",
    "# Define the url, using the sites/ endpoint\n",
    "url = server_url + \"sites/\" + sitecode\n",
    "print(url)"
   ]
  },
  {
   "cell_type": "markdown",
   "metadata": {},
   "source": [
    "## Making a call to the url and investigating the response:"
   ]
  },
  {
   "cell_type": "code",
   "execution_count": null,
   "metadata": {},
   "outputs": [],
   "source": [
    "# Request the url\n",
    "site_request = requests.get(url)"
   ]
  },
  {
   "cell_type": "code",
   "execution_count": null,
   "metadata": {},
   "outputs": [],
   "source": [
    "#looking at what's under the hood for the site request:\n",
    "site_request.__dict__"
   ]
  },
  {
   "cell_type": "code",
   "execution_count": null,
   "metadata": {},
   "outputs": [],
   "source": [
    "# Converting the request to Python JSON object\n",
    "site_json = site_request.json()\n",
    "print(site_json)"
   ]
  },
  {
   "cell_type": "code",
   "execution_count": null,
   "metadata": {},
   "outputs": [],
   "source": [
    "# Use the 'keys' method to view the component of the uppermost json dictionary\n",
    "print(site_json.keys())\n",
    "\"\"\"\n",
    "    This output shows that the entire API response is contained within a single dict called 'data'. \n",
    "    In order to access any of the information contained within this highest-level 'data' dict, \n",
    "    we will need to reference that dictionary directly. Let's view the different keys that are available within \n",
    "    'data':\n",
    "\"\"\"\n",
    "#accessing the data component:\n",
    "data_keys = site_json['data'].keys()\n",
    "print(data_keys)"
   ]
  },
  {
   "cell_type": "markdown",
   "metadata": {},
   "source": [
    "> At the highest level, the JSON object is a dictionary containing a single element with the label 'data'. This 'data' element in turn contains a dictionary with elements containing various pieces of information about the site. When we want to know what elements a dict contians, we can use the .keys() method to list the keys to each element in that dict."
   ]
  },
  {
   "cell_type": "code",
   "execution_count": null,
   "metadata": {},
   "outputs": [],
   "source": [
    "#looking at the first 12 components of the 'data' component in more detail: \n",
    "dict(itertools.islice(site_json['data'].items(),12))"
   ]
  },
  {
   "cell_type": "markdown",
   "metadata": {},
   "source": [
    "> This last piece of information in the 'data' dictionary is stored within the 'dataProducts' key. The 'dataProducts' element is a list of dictionaries, one for each type of NEON data product available at the site; each of these dictionaries has the same keys, but different values. Let's look at the JSON for the third to last entry (\"[-3]\") in the list of data products:"
   ]
  },
  {
   "cell_type": "code",
   "execution_count": null,
   "metadata": {},
   "outputs": [],
   "source": [
    "#View a data product dictionary\n",
    "site_json['data']['dataProducts'][-3]"
   ]
  },
  {
   "cell_type": "markdown",
   "metadata": {},
   "source": [
    "### looking at all the product codes in this site query:"
   ]
  },
  {
   "cell_type": "code",
   "execution_count": null,
   "metadata": {},
   "outputs": [],
   "source": [
    "#View product code and name for every available data product\n",
    "for product in site_json['data']['dataProducts']:\n",
    "    print(product['dataProductCode'],product['dataProductTitle'])"
   ]
  },
  {
   "cell_type": "markdown",
   "metadata": {},
   "source": [
    "looking for the availability of Ecosystem structure (DP3.30015.001) - this is the Canopy Height Model, one of the data products generated by NEON's Airborne Observation Platform (AOP)."
   ]
  },
  {
   "cell_type": "code",
   "execution_count": null,
   "metadata": {},
   "outputs": [],
   "source": [
    "#Set the Ecosystem structure (CHM) data product\n",
    "product_code = 'DP3.30015.001'"
   ]
  },
  {
   "cell_type": "markdown",
   "metadata": {},
   "source": [
    "For each data product, there will be a list of the months for which data of that type was collected and it available at the site, and a corresponding list with the URLs that we would put into the API to get data on that month of data products."
   ]
  },
  {
   "cell_type": "code",
   "execution_count": null,
   "metadata": {},
   "outputs": [],
   "source": [
    "#Get available months of Ecosystem structure data products for TEAK site\n",
    "#Loop through the 'dataProducts' list items (each one is a dictionary) at the site\n",
    "for product in site_json['data']['dataProducts']: \n",
    "    #if a list item's 'dataProductCode' dict element equals the product code string\n",
    "    if(product['dataProductCode'] == product_code): \n",
    "        #print the available months\n",
    "        print('Available Months: ',product['availableMonths'])\n",
    "        print('URLs for each Month:')\n",
    "        #print the available URLs\n",
    "        for url in product['availableDataUrls']:\n",
    "            print(url)"
   ]
  },
  {
   "cell_type": "markdown",
   "metadata": {},
   "source": [
    "# Querying at Product level: "
   ]
  },
  {
   "cell_type": "code",
   "execution_count": null,
   "metadata": {},
   "outputs": [],
   "source": [
    "#Make request:\n",
    "product_request = requests.get(server_url+'products/'+product_code)\n",
    "product_json = product_request.json()\n",
    "print(product_json)"
   ]
  },
  {
   "cell_type": "markdown",
   "metadata": {},
   "source": [
    "Similar structure, data main key with nested dict"
   ]
  },
  {
   "cell_type": "code",
   "execution_count": null,
   "metadata": {},
   "outputs": [],
   "source": [
    "#Print keys for product data dictionary\n",
    "print(product_json['data'].keys())"
   ]
  },
  {
   "cell_type": "code",
   "execution_count": null,
   "metadata": {},
   "outputs": [],
   "source": [
    "# looking at the type of information within: \n",
    "#Print code, name, and abstract of data product\n",
    "print(\"Product Code queried:\", product_json['data']['productCode'])\n",
    "print(\"Product Name:\", product_json['data']['productName'],'\\n')\n",
    "print(\"Product Abstract\", product_json['data']['productAbstract'])"
   ]
  },
  {
   "cell_type": "markdown",
   "metadata": {},
   "source": [
    "Use case: \n",
    "> To look up the availability of the data product, we want the `siteCodes` element. This is a list with an entry for each site where the data product is available. Each site entry is a dict whose elements includes site code, a list of months for which data is available, and a list of the API request URLs to request data for that site for a given month."
   ]
  },
  {
   "cell_type": "code",
   "execution_count": null,
   "metadata": {},
   "outputs": [],
   "source": [
    "#View keys of one site dictionary\n",
    "print(product_json['data']['siteCodes'][0].keys())"
   ]
  },
  {
   "cell_type": "markdown",
   "metadata": {},
   "source": [
    "> We can look up the availability of data at a particular site and get a URL to request data for a specific month. We saw that Lower Teakettle (TEAK) has the data product we want for June 2018; we can get the URL needed to request that data by creating a nested for loop to go through the site and month lists.\n",
    "note we have already defined the sitecode for the Lower Teak that we're interested in:"
   ]
  },
  {
   "cell_type": "code",
   "execution_count": null,
   "metadata": {},
   "outputs": [],
   "source": [
    "#View available months and corresponding API urls, then save desired URL\n",
    "for site in product_json['data']['siteCodes']:\n",
    "    if(site['siteCode'] == sitecode):\n",
    "        for month in zip(site['availableMonths'],site['availableDataUrls']): #Loop through the list of months and URLs\n",
    "            print(month[0],month[1]) \n",
    "            if(month[0] == '2018-06'): #If data is available for the desired month, save the URL\n",
    "                data_url = month[1]"
   ]
  },
  {
   "cell_type": "markdown",
   "metadata": {},
   "source": [
    "# Data File Querying:\n",
    "> We now know that CHM data product is available for 2018-06 at the Lower Teakettle site. Using the server url, site code, product code, and a year-month argument, we can make a request to the data/ endpoint of the NEON API. This will allow us to see what CHM data files can be obtained for 2018-06 at the Lower Teakettle site, and to learn the locations of these files as URLs.\n"
   ]
  },
  {
   "cell_type": "code",
   "execution_count": null,
   "metadata": {},
   "outputs": [],
   "source": [
    "#Make Request\n",
    "data_request = requests.get(server_url+'data/'+product_code+'/'+sitecode+'/'+'2018-06')\n",
    "data_json = data_request.json()\n",
    "print(data_json)"
   ]
  },
  {
   "cell_type": "markdown",
   "metadata": {},
   "source": [
    "Alternatively we could use one of the \"Available Data URLs\" from a sites/ or products/ request, like the data_url we saved earlier."
   ]
  },
  {
   "cell_type": "code",
   "execution_count": null,
   "metadata": {},
   "outputs": [],
   "source": [
    "#Make request with saved url\n",
    "data_request = requests.get(data_url)\n",
    "data_json = data_request.json()"
   ]
  },
  {
   "cell_type": "code",
   "execution_count": null,
   "metadata": {},
   "outputs": [],
   "source": [
    "#Print dict key for 'data' element of data JSON\n",
    "print(data_json['data'].keys())"
   ]
  },
  {
   "cell_type": "markdown",
   "metadata": {},
   "source": [
    "As with the sites JSON content, the uppermost level of a data request JSON object is a dictionary whose only member has the `data` key; this member in turn is a dictionary with the product code, the sitecode, the month, and a list of the available data files.\n",
    "\n",
    "The `files` list is a list of Python dictionaries, one for each file available based on our query. The dictionary for each file includes the `name` of the file, `size` of the file in bytes, a `crc32c` checksum code, and the `url` of the file - clicking on this url will download the file."
   ]
  },
  {
   "cell_type": "code",
   "execution_count": null,
   "metadata": {},
   "outputs": [],
   "source": [
    "#View keys and values in first file dict\n",
    "for key in data_json['data']['files'][0].keys(): #Loop through keys of the data file dict\n",
    "    print(key,':\\t', data_json['data']['files'][0][key])"
   ]
  },
  {
   "cell_type": "code",
   "execution_count": null,
   "metadata": {},
   "outputs": [],
   "source": [
    "#Display the names of the first 10 files\n",
    "for file in data_json['data']['files'][:10]:\n",
    "    print(file['name'])"
   ]
  },
  {
   "cell_type": "code",
   "execution_count": null,
   "metadata": {},
   "outputs": [],
   "source": [
    "#pull out information on only the CHM raster (tif) files:\n",
    "for file in data_json['data']['files'][:20]:\n",
    "    if 'CHM.tif' in file['name']:\n",
    "        print(file['name'])\n",
    "        print(file['url'])"
   ]
  },
  {
   "cell_type": "markdown",
   "metadata": {},
   "source": [
    "click the link for NEON_D17_TEAK_DP3_313000_4098000_CHM.tif, download the file, and place into this directory\n",
    "\n",
    "NOTE: the filename is hard coded, so if the response changes this code will be depreciated"
   ]
  },
  {
   "cell_type": "code",
   "execution_count": null,
   "metadata": {},
   "outputs": [],
   "source": [
    "#using rasterio library:\n",
    "chm_tif = os.getcwd() + '/NEON_D17_TEAK_DP3_313000_4098000_CHM.tif'\n",
    "#chm_tif = 'NEON_D17_TEAK_DP3_313000_4098000_CHM.tif'\n",
    "print(chm_tif)\n",
    "chm = rio.open(chm_tif)"
   ]
  },
  {
   "cell_type": "code",
   "execution_count": null,
   "metadata": {},
   "outputs": [],
   "source": [
    "#Configure the plot\n",
    "fig, ax = plt.subplots(1,1, figsize=(5,5));\n",
    "\n",
    "#Don't use scientific notation for the y axis label\n",
    "ax.get_yaxis().get_major_formatter().set_scientific(False)\n",
    "\n",
    "#Display the CHM\n",
    "show((chm, 1), ax=ax, cmap='Greens', title='NEON_D17_TEAK_DP3_313000_4098000_CHM.tif');"
   ]
  },
  {
   "cell_type": "code",
   "execution_count": null,
   "metadata": {},
   "outputs": [],
   "source": [
    "with rasterio.open('NEON_D17_TEAK_DP3_313000_4098000_CHM.tif') as dataset:\n",
    "\n",
    "    # Read the dataset's valid data mask as a ndarray.\n",
    "    mask = dataset.dataset_mask()\n",
    "\n",
    "    # Extract feature shapes and values from the array.\n",
    "    for geom, val in rasterio.features.shapes(\n",
    "            mask, transform=dataset.transform):\n",
    "\n",
    "        # Transform shapes from the dataset's own coordinate\n",
    "        # reference system to CRS84 (EPSG:4326).\n",
    "        geom = rasterio.warp.transform_geom(\n",
    "            dataset.crs, 'EPSG:4326', geom, precision=6)\n",
    "\n",
    "        # Print GeoJSON shapes to stdout.\n",
    "        print(geom)"
   ]
  },
  {
   "cell_type": "code",
   "execution_count": null,
   "metadata": {},
   "outputs": [],
   "source": []
  }
 ],
 "metadata": {
  "kernelspec": {
   "display_name": "gen_env",
   "language": "python",
   "name": "python3"
  },
  "language_info": {
   "codemirror_mode": {
    "name": "ipython",
    "version": 3
   },
   "file_extension": ".py",
   "mimetype": "text/x-python",
   "name": "python",
   "nbconvert_exporter": "python",
   "pygments_lexer": "ipython3",
   "version": "3.10.9"
  }
 },
 "nbformat": 4,
 "nbformat_minor": 2
}
