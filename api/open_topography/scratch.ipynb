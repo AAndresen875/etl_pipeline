{
 "cells": [
  {
   "cell_type": "markdown",
   "metadata": {},
   "source": [
    "### General imports"
   ]
  },
  {
   "cell_type": "code",
   "execution_count": null,
   "metadata": {},
   "outputs": [],
   "source": [
    "import os\n",
    "import requests\n",
    "import json"
   ]
  },
  {
   "cell_type": "markdown",
   "metadata": {},
   "source": [
    "# 3 public endpoints:\n",
    "* `/globaldem`\n",
    "* `/usgsdem`\n",
    "* `/otCatalog`"
   ]
  },
  {
   "cell_type": "code",
   "execution_count": null,
   "metadata": {},
   "outputs": [],
   "source": [
    "# Server URL\n",
    "# more info on server url and how it influences the base url: https://swagger.io/docs/specification/api-host-and-base-path/\n",
    "server_url = \"https://portal.opentopography.org/API/\""
   ]
  },
  {
   "cell_type": "markdown",
   "metadata": {},
   "source": [
    "# testing out the /globaldem endpoint"
   ]
  },
  {
   "cell_type": "code",
   "execution_count": null,
   "metadata": {},
   "outputs": [],
   "source": [
    "# variables gotten from an example test execution guided with dummy data found here: https://portal.opentopography.org/apidocs/#/Public/getGlobalDem\n",
    "endpoint_code = \"globaldem/\"\n",
    "demtype_code = \"SRTMGL3\"\n",
    "south_number = \"50\"\n",
    "north_number = \"50.1\"\n",
    "west_number = \"14.35\"\n",
    "east_number = \"14.6\"\n",
    "output_format_code = \"GTiff\"\n",
    "my_api_key = os.environ['OPEN_TOPO_API_KEY']\n",
    "\n",
    "# Define the url, using the globaldem/ endpoint code. should dynamic add this with f strings and kwargs in a function:\n",
    "request_url = server_url + endpoint_code + \"?demtype=\" + demtype_code + \"&south=\" + south_number + \"&north=\" + north_number + \"&west=\" + west_number + \"&east=\"+ east_number+\"&outputFormat=\"+\"output_format_code\"+\"&API_Key=\"+my_api_key\n",
    "print(request_url)"
   ]
  },
  {
   "cell_type": "code",
   "execution_count": null,
   "metadata": {},
   "outputs": [],
   "source": [
    "# Request the url\n",
    "site_request = requests.get(request_url)\n",
    "site_request.__dict__"
   ]
  },
  {
   "cell_type": "code",
   "execution_count": null,
   "metadata": {},
   "outputs": [],
   "source": [
    "# Converting the request to Python JSON object\n",
    "site_json = site_request.json()\n",
    "#prints an error:\n",
    "print(site_json)"
   ]
  },
  {
   "cell_type": "code",
   "execution_count": null,
   "metadata": {},
   "outputs": [],
   "source": []
  }
 ],
 "metadata": {
  "kernelspec": {
   "display_name": "gen_env",
   "language": "python",
   "name": "python3"
  },
  "language_info": {
   "codemirror_mode": {
    "name": "ipython",
    "version": 3
   },
   "file_extension": ".py",
   "mimetype": "text/x-python",
   "name": "python",
   "nbconvert_exporter": "python",
   "pygments_lexer": "ipython3",
   "version": "3.10.9"
  }
 },
 "nbformat": 4,
 "nbformat_minor": 2
}
